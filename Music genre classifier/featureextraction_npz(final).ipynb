{
  "nbformat": 4,
  "nbformat_minor": 0,
  "metadata": {
    "colab": {
      "provenance": [],
      "machine_shape": "hm"
    },
    "kernelspec": {
      "name": "python3",
      "display_name": "Python 3"
    },
    "language_info": {
      "name": "python"
    }
  },
  "cells": [
    {
      "cell_type": "code",
      "source": [
        "import os"
      ],
      "metadata": {
        "id": "85ppq5bQTF81"
      },
      "execution_count": null,
      "outputs": []
    },
    {
      "cell_type": "code",
      "execution_count": null,
      "metadata": {
        "colab": {
          "base_uri": "https://localhost:8080/",
          "height": 36
        },
        "id": "gCFdAgJrS-wn",
        "outputId": "46da2638-9327-458e-d0f6-18c6f260236f"
      },
      "outputs": [
        {
          "output_type": "execute_result",
          "data": {
            "text/plain": [
              "'/content'"
            ],
            "application/vnd.google.colaboratory.intrinsic+json": {
              "type": "string"
            }
          },
          "metadata": {},
          "execution_count": 2
        }
      ],
      "source": [
        "os.getcwd()"
      ]
    },
    {
      "cell_type": "code",
      "source": [
        "os.chdir('/content/drive/MyDrive/Project/')"
      ],
      "metadata": {
        "id": "m6j7RSlxTJIi"
      },
      "execution_count": null,
      "outputs": []
    },
    {
      "cell_type": "code",
      "source": [
        "import os, sys\n",
        "import numpy as np\n",
        "import pandas as pd\n",
        "import librosa\n",
        "import IPython.display as ipd\n",
        "from tqdm import tqdm\n",
        "import matplotlib.pyplot as plt\n",
        "import librosa.display"
      ],
      "metadata": {
        "id": "ZPHora1uT99C"
      },
      "execution_count": null,
      "outputs": []
    },
    {
      "cell_type": "code",
      "source": [
        "# Get the base directory\n",
        "basedir = os.getcwd()\n",
        "dirname = basedir+ \"/gtzan/audio_original\"\n",
        "\n",
        "# Create lists for audio paths and labels\n",
        "audio_paths = []\n",
        "audio_label = []\n",
        "# Print all the files in different directories\n",
        "for root, dirs, files in os.walk(dirname, topdown=False):\n",
        "    for filenames in files:\n",
        "        if filenames.find('.wav') != -1:\n",
        "\n",
        "            audio_paths.append(os.path.join(root, filenames))\n",
        "            filenames = filenames.split('.', 1)\n",
        "            filenames = filenames[0]\n",
        "            audio_label.append(filenames)\n",
        "audio_paths = np.array(audio_paths)\n",
        "audio_label = np.array(audio_label)\n",
        "# audio_paths.shape"
      ],
      "metadata": {
        "id": "mxJuiZ-XUBMS"
      },
      "execution_count": null,
      "outputs": []
    },
    {
      "cell_type": "code",
      "source": [
        "# Create empty arrays for the features\n",
        "AllSpec = np.empty([1000, 1025, 1293])\n",
        "AllMel = np.empty([1000, 128, 1293])\n",
        "AllMfcc = np.empty([1000, 10, 1293])\n",
        "\n",
        "count = 0\n",
        "# Create a list for the corrupt indices\n",
        "bad_index = []\n",
        "for i in tqdm(range(len(audio_paths))):\n",
        "    try:\n",
        "\n",
        "        path = audio_paths[i]\n",
        "        y, sr = librosa.load(path)\n",
        "        # For Spectrogram\n",
        "        X = librosa.stft(y)\n",
        "        Xdb = librosa.amplitude_to_db(abs(X))\n",
        "        AllSpec[i] = Xdb\n",
        "\n",
        "        # Mel-Spectrogram\n",
        "        M = librosa.feature.melspectrogram(y=y)\n",
        "        M_db = librosa.power_to_db(M)\n",
        "        AllMel[i] = M_db\n",
        "\n",
        "        # MFCC\n",
        "        mfcc = librosa.feature.mfcc(y=y, sr=sr, n_mfcc= 10)\n",
        "        AllMfcc[i] = mfcc\n",
        "\n",
        "    except Exception as e:\n",
        "        bad_index.append(i)"
      ],
      "metadata": {
        "colab": {
          "base_uri": "https://localhost:8080/"
        },
        "id": "jri2mJQMUJxt",
        "outputId": "5680af68-9272-43b4-f701-47dc8fd5f268"
      },
      "execution_count": null,
      "outputs": [
        {
          "output_type": "stream",
          "name": "stderr",
          "text": [
            "100%|██████████| 999/999 [15:35<00:00,  1.07it/s]\n"
          ]
        }
      ]
    },
    {
      "cell_type": "code",
      "source": [
        "import tensorflow"
      ],
      "metadata": {
        "id": "vhE0-nNKlJa2"
      },
      "execution_count": null,
      "outputs": []
    },
    {
      "cell_type": "code",
      "source": [
        "# Delete the features at the corrupt indices\n",
        "AllSpec = np.delete(AllSpec, bad_index, 0)\n",
        "AllMel = np.delete(AllMel, bad_index, 0)\n",
        "AllMfcc = np.delete(AllMfcc, bad_index, 0)\n",
        "\n",
        "\n",
        "# Convert features to float32\n",
        "AllSpec = AllSpec.astype(np.float32)\n",
        "AllMel = AllMel.astype(np.float32)\n",
        "AllMfcc = AllMfcc.astype(np.float32)\n",
        "\n",
        "\n",
        "# Delete audio labels at corrupt indices\n",
        "audio_label = np.delete(audio_label, bad_index)\n",
        "\n",
        "# Convert labels from string into numerical value\n",
        "audio_label[audio_label == 'blues'] = 0\n",
        "audio_label[audio_label == 'classical'] = 1\n",
        "audio_label[audio_label == 'country'] = 2\n",
        "audio_label[audio_label == 'disco'] = 3\n",
        "audio_label[audio_label == 'hiphop'] = 4\n",
        "audio_label[audio_label == 'jazz'] = 5\n",
        "audio_label[audio_label == 'metal'] = 6\n",
        "audio_label[audio_label == 'pop'] = 7\n",
        "audio_label[audio_label == 'reggae'] = 8\n",
        "audio_label[audio_label == 'rock'] = 9\n",
        "audio_label = [int(i) for i in audio_label]\n",
        "audio_label = np.array(audio_label)\n",
        "\n",
        "# Convert numerical data into categorical data\n",
        "y = tensorflow.keras.utils.to_categorical(audio_label,num_classes = 10, dtype =\"int32\")\n",
        "\n",
        "# Save the features and labels as a .npz file\n",
        "np.savez_compressed(os.getcwd()+\"/MusicFeatures.npz\", spec= AllSpec, mel= AllMel, mfcc= AllMfcc, target=y)"
      ],
      "metadata": {
        "id": "9gk2WBnqkxt3"
      },
      "execution_count": null,
      "outputs": []
    }
  ]
}